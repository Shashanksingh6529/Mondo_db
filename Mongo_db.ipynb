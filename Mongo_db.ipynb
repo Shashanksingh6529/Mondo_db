{
 "cells": [
  {
   "cell_type": "markdown",
   "id": "63029138-ff6a-4317-a75c-d873d807fd11",
   "metadata": {},
   "source": [
    "Q1. What is MongoDB? Explain non-relational databases in short. In which scenarios is it preferred to use MongoDB over SQL databases"
   ]
  },
  {
   "cell_type": "code",
   "execution_count": 1,
   "id": "c8e3308c-ec4f-4825-a6ec-2ff6fc32ab93",
   "metadata": {},
   "outputs": [
    {
     "data": {
      "text/plain": [
       "'Cloud-Native Applications: With the rise of cloud-native applications, where dynamic scaling and distributed architectures are crucial, non-relational databases offer advantages over traditional SQL databases.'"
      ]
     },
     "execution_count": 1,
     "metadata": {},
     "output_type": "execute_result"
    }
   ],
   "source": [
    "\"MongoDB is a NoSQL database program, belonging to the document-oriented database category. It stores data in flexible, JSON-like documents, meaning fields can vary from document to document and data structure can be changed over time. MongoDB uses a concept called collections to store documents.\"\n",
    "\n",
    "\"Non-relational databases, including MongoDB, are preferred in scenarios where:\"\n",
    "\n",
    "\"Scalability: Non-relational databases can scale horizontally, adding more servers to handle increasing load, which is difficult in traditional SQL databases.\"\n",
    "\"Flexible Schema: Non-relational databases like MongoDB allow for flexible schemas, accommodating changes in data structure without requiring changes to existing data.\"\n",
    "\"Speed: They can handle large volumes of data and high-velocity data ingest, making them suitable for applications requiring high throughput.\"\n",
    "\"Semi-structured or Unstructured Data: When dealing with data that doesn't fit well into tables with rows and columns, such as JSON, XML, or binary data, non-relational databases provide better support.\"\n",
    "\"Cloud-Native Applications: With the rise of cloud-native applications, where dynamic scaling and distributed architectures are crucial, non-relational databases offer advantages over traditional SQL databases.\""
   ]
  },
  {
   "cell_type": "markdown",
   "id": "62049faa-6764-4ecd-85f2-43a782406452",
   "metadata": {},
   "source": [
    "Q2. State and Explain the features of MongoDB."
   ]
  },
  {
   "cell_type": "code",
   "execution_count": 2,
   "id": "7c066a35-9182-4713-bb21-c258edb26044",
   "metadata": {},
   "outputs": [
    {
     "data": {
      "text/plain": [
       "'Document-Oriented Storage: Data is stored in flexible, JSON-like documents, making it easier to represent hierarchical relationships.\\nSchema Flexibility: MongoDB does not require a predefined schema, allowing for dynamic and flexible data models.\\nScalability: It supports horizontal scalability through sharding, distributing data across multiple servers.\\nHigh Availability: MongoDB offers replication, ensuring data availability even in the event of hardware failures.\\nRich Query Language: MongoDB supports rich queries, including embedded documents and arrays.\\nIndexing: It supports various types of indexes for efficient querying.\\nAggregation Framework: MongoDB provides an aggregation framework for data processing and analytics.\\nGeospatial Indexing: It supports geospatial queries, allowing for location-based searches.\\nNative JSON Support: MongoDB stores data in BSON (Binary JSON) format, which aligns well with JSON documents.\\nAd Hoc Queries: Developers can perform ad hoc queries on MongoDB without needing to define views or procedures.'"
      ]
     },
     "execution_count": 2,
     "metadata": {},
     "output_type": "execute_result"
    }
   ],
   "source": [
    "\"\"\"Document-Oriented Storage: Data is stored in flexible, JSON-like documents, making it easier to represent hierarchical relationships.\n",
    "Schema Flexibility: MongoDB does not require a predefined schema, allowing for dynamic and flexible data models.\n",
    "Scalability: It supports horizontal scalability through sharding, distributing data across multiple servers.\n",
    "High Availability: MongoDB offers replication, ensuring data availability even in the event of hardware failures.\n",
    "Rich Query Language: MongoDB supports rich queries, including embedded documents and arrays.\n",
    "Indexing: It supports various types of indexes for efficient querying.\n",
    "Aggregation Framework: MongoDB provides an aggregation framework for data processing and analytics.\n",
    "Geospatial Indexing: It supports geospatial queries, allowing for location-based searches.\n",
    "Native JSON Support: MongoDB stores data in BSON (Binary JSON) format, which aligns well with JSON documents.\n",
    "Ad Hoc Queries: Developers can perform ad hoc queries on MongoDB without needing to define views or procedures.\"\"\""
   ]
  },
  {
   "cell_type": "markdown",
   "id": "3eb8b825-9099-4e80-aeea-c7a614ba1e7c",
   "metadata": {},
   "source": [
    "Q3. Write a code to connect MongoDB to Python. Also, create a database and a collection in MongoDB"
   ]
  },
  {
   "cell_type": "code",
   "execution_count": null,
   "id": "16c5d080-b3a2-448c-bd6a-e53f6c8bd27a",
   "metadata": {},
   "outputs": [],
   "source": [
    "import pymongo\n",
    "\n",
    "# Connect to MongoDB\n",
    "client = pymongo.MongoClient(\"mongodb://localhost:27017/\")\n",
    "\n",
    "# Create a database\n",
    "mydb = client[\"mydatabase\"]\n",
    "\n",
    "# Create a collection\n",
    "mycol = mydb[\"customers\"]"
   ]
  },
  {
   "cell_type": "markdown",
   "id": "a813d602-0a36-4229-9357-08bb6ce5f5c5",
   "metadata": {},
   "source": [
    "Q4. Using the database and the collection created in question number 3, write a code to insert one record, and insert many records. Use the find() and find_one() methods to print the inserted record."
   ]
  },
  {
   "cell_type": "code",
   "execution_count": null,
   "id": "7c7946a0-b539-42b4-b015-b8fbb688054f",
   "metadata": {},
   "outputs": [],
   "source": [
    "# Insert one record\n",
    "mydict = { \"name\": \"John\", \"address\": \"Highway 37\" }\n",
    "x = mycol.insert_one(mydict)\n",
    "\n",
    "# Insert many records\n",
    "mylist = [\n",
    "  { \"name\": \"Amy\", \"address\": \"Apple st 652\"},\n",
    "  { \"name\": \"Hannah\", \"address\": \"Mountain 21\"},\n",
    "  { \"name\": \"Michael\", \"address\": \"Valley 345\"},\n",
    "  { \"name\": \"Sandy\", \"address\": \"Ocean blvd 2\"},\n",
    "  { \"name\": \"Betty\", \"address\": \"Green Grass 1\"},\n",
    "  { \"name\": \"Richard\", \"address\": \"Sky st 331\"},\n",
    "  { \"name\": \"Susan\", \"address\": \"One way 98\"},\n",
    "  { \"name\": \"Vicky\", \"address\": \"Yellow Garden 2\"},\n",
    "  { \"name\": \"Ben\", \"address\": \"Park Lane 38\"},\n",
    "  { \"name\": \"William\", \"address\": \"Central st 954\"},\n",
    "  { \"name\": \"Chuck\", \"address\": \"Main Road 989\"},\n",
    "  { \"name\": \"Viola\", \"address\": \"Sideway 1633\"}\n",
    "]\n",
    "x = mycol.insert_many(mylist)\n",
    "\n",
    "# Print the inserted record\n",
    "print(mycol.find_one())\n",
    "print([doc for doc in mycol.find()])"
   ]
  },
  {
   "cell_type": "markdown",
   "id": "923d2bd5-06c3-4724-bac0-b71b5e04fb43",
   "metadata": {},
   "source": [
    "Q5. Explain how you can use the find() method to query the MongoDB database. Write a simple code to demonstrate this."
   ]
  },
  {
   "cell_type": "code",
   "execution_count": 7,
   "id": "2759a2c9-49e6-40f6-b4dc-e4545a20bc93",
   "metadata": {},
   "outputs": [
    {
     "data": {
      "text/plain": [
       "'The sort() method in MongoDB is used to sort the results of a query in ascending or descending order based on one or more fields. It takes a field name and an optional direction parameter.'"
      ]
     },
     "execution_count": 7,
     "metadata": {},
     "output_type": "execute_result"
    }
   ],
   "source": [
    "\"The sort() method in MongoDB is used to sort the results of a query in ascending or descending order based on one or more fields. It takes a field name and an optional direction parameter.\""
   ]
  },
  {
   "cell_type": "code",
   "execution_count": null,
   "id": "61e9a781-1b7d-4156-b346-416e3b8656a2",
   "metadata": {},
   "outputs": [],
   "source": [
    "Q7. Explain why delete_one(), delete_many(), and drop() are used."
   ]
  }
 ],
 "metadata": {
  "kernelspec": {
   "display_name": "Python 3 (ipykernel)",
   "language": "python",
   "name": "python3"
  },
  "language_info": {
   "codemirror_mode": {
    "name": "ipython",
    "version": 3
   },
   "file_extension": ".py",
   "mimetype": "text/x-python",
   "name": "python",
   "nbconvert_exporter": "python",
   "pygments_lexer": "ipython3",
   "version": "3.10.8"
  }
 },
 "nbformat": 4,
 "nbformat_minor": 5
}
